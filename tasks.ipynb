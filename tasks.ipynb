{
 "cells": [
  {
   "cell_type": "markdown",
   "metadata": {},
   "source": [
    "# Tasks for laboratory assignment 1"
   ]
  },
  {
   "cell_type": "code",
   "execution_count": 2,
   "metadata": {},
   "outputs": [],
   "source": [
    "# imports section\n",
    "\n",
    "import requests\n",
    "from bs4 import BeautifulSoup\n",
    "import json\n",
    "import pandas as pd\n",
    "from datetime import datetime\n",
    "import csv\n",
    "import numpy as np\n",
    "import matplotlib.pyplot as plt"
   ]
  },
  {
   "cell_type": "markdown",
   "metadata": {},
   "source": [
    "## Extract webpage data given the url\n",
    "\n",
    "Create a Python script that performs basic web scraping on a page to extract all the information into text and returns it as a string.\n",
    "String should not contain tags."
   ]
  },
  {
   "cell_type": "code",
   "execution_count": 4,
   "metadata": {},
   "outputs": [
    {
     "name": "stdout",
     "output_type": "stream",
     "text": [
      "Головна - Факультет математики та інформатики\n",
      "\n",
      "\n",
      "\n",
      "\n",
      "\n",
      "\n",
      "\n",
      "\n",
      "\n",
      "\n",
      "\n",
      "\n",
      "\n",
      "\n",
      "\n",
      "\n",
      "\n",
      "\n",
      "\n",
      "\n",
      "\n",
      "\n",
      "\n",
      "\n",
      "\n",
      "\n",
      "\n",
      "\n",
      "\n",
      "\n",
      "\n",
      "\n",
      "\n",
      "\n",
      "\n",
      "\n",
      "\n",
      "\n",
      "\n",
      "\n",
      "\n",
      "\n",
      "\n",
      "\n",
      "\n",
      "\n",
      "\n",
      "\n",
      "\n",
      "\n",
      "\n",
      "\n",
      "Перейти до основного вмісту\n",
      "\n",
      "\n",
      "\n",
      "\n",
      "\n",
      "\n",
      "[email protected]\n",
      "\n",
      "\n",
      "\n",
      "                58012, Україна, м. Чернівці, вул. Університетська, 28\n",
      "            \n",
      "\n",
      "\n",
      "\n",
      "\n",
      "\n",
      "\n",
      "\n",
      "\n",
      "\n",
      "\n",
      "\n",
      "\n",
      "\n",
      "\n",
      "\n",
      "\n",
      "\n",
      "\n",
      "Web scraping - Wikipedia\n",
      "\n",
      "\n",
      "\n",
      "\n",
      "\n",
      "\n",
      "\n",
      "\n",
      "\n",
      "\n",
      "\n",
      "\n",
      "\n",
      "\n",
      "\n",
      "\n",
      "\n",
      "\n",
      "\n",
      "\n",
      "\n",
      "\n",
      "\n",
      "\n",
      "\n",
      "\n",
      "\n",
      "Jump to content\n",
      "\n",
      "\n",
      "\n",
      "\n",
      "\n",
      "\n",
      "\n",
      "Main menu\n",
      "\n",
      "\n",
      "\n",
      "\n",
      "\n",
      "Main menu\n",
      "move to sidebar\n",
      "hide\n",
      "\n",
      "\n",
      "\n",
      "\t\tNavigation\n",
      "\t\n",
      "\n",
      "\n",
      "Main pageContentsCurrent eventsRandom articleAbout WikipediaContact usDonate\n",
      "\n",
      "\n",
      "\n",
      "\n",
      "\n",
      "\t\tContribute\n",
      "\t\n",
      "\n",
      "\n",
      "HelpLearn to ed\n"
     ]
    }
   ],
   "source": [
    "def parse_web_page(url: str) -> str:\n",
    "    \"\"\"\n",
    "    Fetch the content of the given web page.\n",
    "\n",
    "    Args:\n",
    "        url (str): The URL of the web page to fetch.\n",
    "\n",
    "    Returns:\n",
    "        str: The content of the page as a string.\n",
    "\n",
    "    Raises:\n",
    "        HTTPError: If the HTTP request returned an unsuccessful status code.\n",
    "    \"\"\"\n",
    "    response = requests.get(url)\n",
    "    response.raise_for_status() # raises an error\n",
    "    response_text = BeautifulSoup(response.text).get_text().strip()\n",
    "    return response_text\n",
    "\n",
    "print(parse_web_page('https://fmi.chnu.edu.ua/')[:255])\n",
    "print(parse_web_page('https://en.wikipedia.org/wiki/Web_scraping')[:255])"
   ]
  },
  {
   "cell_type": "markdown",
   "metadata": {},
   "source": [
    "## Get data from the API\n",
    "\n",
    "Create a python script that performs basic request to API endpoint and saves that data to a JSON file `result.json`."
   ]
  },
  {
   "cell_type": "code",
   "execution_count": 5,
   "metadata": {},
   "outputs": [],
   "source": [
    "def parse_api(api_url:str) -> None:\n",
    "    \"\"\"\n",
    "    Fetch the data of the given API endpoint and save it to result.json.\n",
    "\n",
    "    Args:\n",
    "        api_url (str): The URL of the API endpoint.\n",
    "\n",
    "    Returns:\n",
    "        None.\n",
    "\n",
    "    Raises:\n",
    "        HTTPError: If the HTTP request returned an unsuccessful status code.\n",
    "    \"\"\"\n",
    "    response = requests.get(api_url)\n",
    "    response.raise_for_status()\n",
    "    with open(\"results/result.json\",\"w\") as f:\n",
    "        json.dump(response.json(),f,indent=6)\n",
    "\n",
    "\n",
    "parse_api('https://api.github.com/')"
   ]
  },
  {
   "cell_type": "markdown",
   "metadata": {},
   "source": [
    "## Parse the json file\n",
    "\n",
    "Parse the `weather.json` file and return weather data for a specific date, that is given as a parameter. Return the data as an array."
   ]
  },
  {
   "cell_type": "code",
   "execution_count": 23,
   "metadata": {},
   "outputs": [
    {
     "name": "stdout",
     "output_type": "stream",
     "text": [
      "['2024-08-19', 30.0, 21.0, 5.0, 10.0, 70, 'Light rain']\n"
     ]
    }
   ],
   "source": [
    "def parse_json(date:str) -> list:\n",
    "    \"\"\"\n",
    "    Parse the data from weather.json file and return weather data for a given date.\n",
    "\n",
    "    Args:\n",
    "        date (str): The date for which we look up the weather.\n",
    "\n",
    "    Returns:\n",
    "        list: a list of weather data for a given date.\n",
    "    \"\"\"\n",
    "    with open(\"resources/weather.json\") as f:\n",
    "        weather_data = json.load(f)\n",
    "    for weather in weather_data['daily']:\n",
    "        if weather.get(\"date\",\"\") == date:\n",
    "            return list(weather.values())\n",
    "    return []\n",
    "    \n",
    "target_date = '2024-08-19' # previous date was 2024-8-19 - without zero\n",
    "print(parse_json(target_date))"
   ]
  },
  {
   "cell_type": "markdown",
   "metadata": {},
   "source": [
    "## Parse the csv file\n",
    "\n",
    "Parse the `weather.csv` file and return weather data for a specific date, that is given as a parameter. Return the data as an array."
   ]
  },
  {
   "cell_type": "code",
   "execution_count": 43,
   "metadata": {},
   "outputs": [
    {
     "name": "stdout",
     "output_type": "stream",
     "text": [
      "[['1997-5-22' 25.0 18.0 10.0 11.0 8.0 6.0 88.0 54.0 34.0 1017 1015 1012\n",
      "  10.0 10.0 10.0 11 3 nan 0.0 3.0 nan 277]]\n"
     ]
    }
   ],
   "source": [
    "def parse_csv(date:str) -> list:\n",
    "    \"\"\"\n",
    "    Parse the data from weather.csv file and return weather data for a given date.\n",
    "\n",
    "    Args:\n",
    "        date (str): The date for which we look up the weather.\n",
    "\n",
    "    Returns:\n",
    "        list: a list of weather data for a given date.\n",
    "    \"\"\"\n",
    "    weather_data = pd.read_csv(\"resources/weather.csv\", delimiter=\",\")\n",
    "    filtered_data = weather_data[weather_data['CET'] == date] # dataframe if (weather_data['CET'] == date) - True\n",
    "    if not filtered_data.empty:\n",
    "        return(filtered_data.values)\n",
    "    return []\n",
    "    \n",
    "target_date = '1997-5-22'\n",
    "print(parse_csv(target_date))"
   ]
  },
  {
   "cell_type": "markdown",
   "metadata": {},
   "source": [
    "## Visualize data\n",
    "\n",
    "Visualize the `weather.csv` data using matplotlib. Choose your own approach to data visualization. Save the results (as `.png`, `.webp` files etc., your choise) in this repository. "
   ]
  },
  {
   "cell_type": "code",
   "execution_count": 7,
   "metadata": {},
   "outputs": [
    {
     "data": {
      "image/png": "[encoded data removed]",
      "text/plain": [
       "<Figure size 640x480 with 1 Axes>"
      ]
     },
     "metadata": {},
     "output_type": "display_data"
    }
   ],
   "source": [
    "def visualize_data() -> None:\n",
    "    \"\"\"\n",
    "    Parse the data from weather.csv file and visualize it using Matplotlib. Use more then one visualization. \n",
    "    Save the results in the repository.\n",
    "\n",
    "    Args:\n",
    "        None: None.\n",
    "\n",
    "    Returns:\n",
    "        None: None.\n",
    "    \"\"\"\n",
    "    weather_data = pd.read_csv(\"resources/weather.csv\", delimiter=\",\", nrows=20)\n",
    "    plt.plot(weather_data['CET'],weather_data['Mean TemperatureC'])\n",
    "    plt.xlabel(\"Date\")\n",
    "    plt.xticks(rotation=90)\n",
    "    plt.ylabel(\"Mean Temperature\")\n",
    "    plt.savefig(\"results/temperature.png\")\n",
    "    plt.show()\n",
    "\n",
    "\n",
    "visualize_data()"
   ]
  }
 ],
 "metadata": {
  "kernelspec": {
   "display_name": "Python 3.10.5 64-bit",
   "language": "python",
   "name": "python3"
  },
  "language_info": {
   "codemirror_mode": {
    "name": "ipython",
    "version": 3
   },
   "file_extension": ".py",
   "mimetype": "text/x-python",
   "name": "python",
   "nbconvert_exporter": "python",
   "pygments_lexer": "ipython3",
   "version": "3.10.5"
  },
  "vscode": {
   "interpreter": {
    "hash": "94e5eea1715708a1e78c3631190834d00f47d98cfb664d01f783a43e479631d3"
   }
  }
 },
 "nbformat": 4,
 "nbformat_minor": 2
}
